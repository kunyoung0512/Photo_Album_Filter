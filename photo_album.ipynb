{
 "cells": [
  {
   "cell_type": "markdown",
   "metadata": {},
   "source": [
    "## Load Model"
   ]
  },
  {
   "cell_type": "code",
   "execution_count": 2,
   "metadata": {},
   "outputs": [
    {
     "name": "stderr",
     "output_type": "stream",
     "text": [
      "Using cache found in C:\\Users\\Kunyoung/.cache\\torch\\hub\\ultralytics_yolov5_master\n",
      "Fusing layers... \n",
      "Model Summary: 224 layers, 7266973 parameters, 0 gradients\n",
      "Adding AutoShape... \n",
      "YOLOv5  2021-6-30 torch 1.9.0 CUDA:0 (GeForce GTX 1070, 8192.0MB)\n",
      "\n"
     ]
    }
   ],
   "source": [
    "import torch\n",
    "\n",
    "model = torch.hub.load('ultralytics/yolov5', 'yolov5s')"
   ]
  },
  {
   "cell_type": "markdown",
   "metadata": {},
   "source": [
    "## Test Inference"
   ]
  },
  {
   "cell_type": "code",
   "execution_count": 9,
   "metadata": {},
   "outputs": [
    {
     "name": "stdout",
     "output_type": "stream",
     "text": [
      "image 1/1: 960x640 1 person, 1 bottle, 3 wine glasss, 2 cups, 1 orange, 1 dining table\n",
      "Speed: 33.4ms pre-process, 16.0ms inference, 3.0ms NMS per image at shape (1, 3, 640, 448)\n"
     ]
    }
   ],
   "source": [
    "# img = 'https://ultralytics.com/images/zidane.jpg'\n",
    "img_path = 'static/photos/50.jpg'\n",
    "\n",
    "results = model(img_path)\n",
    "\n",
    "results.print()"
   ]
  },
  {
   "cell_type": "markdown",
   "metadata": {},
   "source": [
    "## Show Result Image"
   ]
  },
  {
   "cell_type": "code",
   "execution_count": 10,
   "metadata": {},
   "outputs": [],
   "source": [
    "results.show()"
   ]
  },
  {
   "cell_type": "markdown",
   "metadata": {},
   "source": [
    "## Raw Prediction Result"
   ]
  },
  {
   "cell_type": "code",
   "execution_count": 4,
   "metadata": {},
   "outputs": [
    {
     "data": {
      "text/plain": [
       "[tensor([[2.05000e+01, 3.12500e+01, 6.34500e+02, 4.68500e+02, 5.28809e-01, 5.30000e+01]], device='cuda:0')]"
      ]
     },
     "execution_count": 4,
     "metadata": {},
     "output_type": "execute_result"
    }
   ],
   "source": [
    "results.pred"
   ]
  },
  {
   "cell_type": "markdown",
   "metadata": {},
   "source": [
    "## Label Names"
   ]
  },
  {
   "cell_type": "code",
   "execution_count": 5,
   "metadata": {},
   "outputs": [
    {
     "data": {
      "text/plain": [
       "['person',\n",
       " 'bicycle',\n",
       " 'car',\n",
       " 'motorcycle',\n",
       " 'airplane',\n",
       " 'bus',\n",
       " 'train',\n",
       " 'truck',\n",
       " 'boat',\n",
       " 'traffic light',\n",
       " 'fire hydrant',\n",
       " 'stop sign',\n",
       " 'parking meter',\n",
       " 'bench',\n",
       " 'bird',\n",
       " 'cat',\n",
       " 'dog',\n",
       " 'horse',\n",
       " 'sheep',\n",
       " 'cow',\n",
       " 'elephant',\n",
       " 'bear',\n",
       " 'zebra',\n",
       " 'giraffe',\n",
       " 'backpack',\n",
       " 'umbrella',\n",
       " 'handbag',\n",
       " 'tie',\n",
       " 'suitcase',\n",
       " 'frisbee',\n",
       " 'skis',\n",
       " 'snowboard',\n",
       " 'sports ball',\n",
       " 'kite',\n",
       " 'baseball bat',\n",
       " 'baseball glove',\n",
       " 'skateboard',\n",
       " 'surfboard',\n",
       " 'tennis racket',\n",
       " 'bottle',\n",
       " 'wine glass',\n",
       " 'cup',\n",
       " 'fork',\n",
       " 'knife',\n",
       " 'spoon',\n",
       " 'bowl',\n",
       " 'banana',\n",
       " 'apple',\n",
       " 'sandwich',\n",
       " 'orange',\n",
       " 'broccoli',\n",
       " 'carrot',\n",
       " 'hot dog',\n",
       " 'pizza',\n",
       " 'donut',\n",
       " 'cake',\n",
       " 'chair',\n",
       " 'couch',\n",
       " 'potted plant',\n",
       " 'bed',\n",
       " 'dining table',\n",
       " 'toilet',\n",
       " 'tv',\n",
       " 'laptop',\n",
       " 'mouse',\n",
       " 'remote',\n",
       " 'keyboard',\n",
       " 'cell phone',\n",
       " 'microwave',\n",
       " 'oven',\n",
       " 'toaster',\n",
       " 'sink',\n",
       " 'refrigerator',\n",
       " 'book',\n",
       " 'clock',\n",
       " 'vase',\n",
       " 'scissors',\n",
       " 'teddy bear',\n",
       " 'hair drier',\n",
       " 'toothbrush']"
      ]
     },
     "execution_count": 5,
     "metadata": {},
     "output_type": "execute_result"
    }
   ],
   "source": [
    "results.names"
   ]
  },
  {
   "cell_type": "markdown",
   "metadata": {},
   "source": [
    "## Prediction from Raw Result"
   ]
  },
  {
   "cell_type": "code",
   "execution_count": 6,
   "metadata": {},
   "outputs": [
    {
     "data": {
      "text/plain": [
       "'pizza'"
      ]
     },
     "execution_count": 6,
     "metadata": {},
     "output_type": "execute_result"
    }
   ],
   "source": [
    "results.names[int(results.pred[0][0][-1])]"
   ]
  },
  {
   "cell_type": "markdown",
   "metadata": {},
   "source": [
    "## Predict Bulk and Create Database"
   ]
  },
  {
   "cell_type": "code",
   "execution_count": 7,
   "metadata": {},
   "outputs": [
    {
     "data": {
      "text/plain": [
       "{'static/photos\\\\01.jpg': ['person'],\n",
       " 'static/photos\\\\02.jpg': ['person'],\n",
       " 'static/photos\\\\03.jpg': ['umbrella', 'bench', 'person'],\n",
       " 'static/photos\\\\04.jpg': [],\n",
       " 'static/photos\\\\05.jpg': ['bicycle', 'person'],\n",
       " 'static/photos\\\\06.jpg': ['bicycle', 'cup', 'cellphone', 'person'],\n",
       " 'static/photos\\\\07.jpg': ['bicycle', 'person'],\n",
       " 'static/photos\\\\08.jpg': ['bicycle', 'person'],\n",
       " 'static/photos\\\\09.jpg': ['car'],\n",
       " 'static/photos\\\\10.jpg': ['person'],\n",
       " 'static/photos\\\\11.jpg': ['car', 'person'],\n",
       " 'static/photos\\\\12.jpg': ['person'],\n",
       " 'static/photos\\\\13.jpg': ['motorcycle', 'bench'],\n",
       " 'static/photos\\\\14.jpg': ['person'],\n",
       " 'static/photos\\\\15.jpg': ['car', 'person'],\n",
       " 'static/photos\\\\16.jpg': ['motorcycle', 'person'],\n",
       " 'static/photos\\\\17.jpg': ['motorcycle', 'person'],\n",
       " 'static/photos\\\\18.jpg': ['motorcycle', 'person'],\n",
       " 'static/photos\\\\19.jpg': ['airplane'],\n",
       " 'static/photos\\\\20.jpg': ['airplane'],\n",
       " 'static/photos\\\\21.jpg': ['bus', 'person'],\n",
       " 'static/photos\\\\22.jpg': ['person'],\n",
       " 'static/photos\\\\23.jpg': ['suitcase', 'bus', 'person'],\n",
       " 'static/photos\\\\24.jpg': ['train', 'handbag', 'person'],\n",
       " 'static/photos\\\\25.jpg': ['train'],\n",
       " 'static/photos\\\\26.jpg': ['backpack', 'person'],\n",
       " 'static/photos\\\\27.jpg': ['bird'],\n",
       " 'static/photos\\\\28.jpg': ['bird'],\n",
       " 'static/photos\\\\29.jpg': ['bird'],\n",
       " 'static/photos\\\\30.jpg': ['cat'],\n",
       " 'static/photos\\\\31.jpg': ['cat'],\n",
       " 'static/photos\\\\32.jpg': ['cat'],\n",
       " 'static/photos\\\\33.jpg': ['cat'],\n",
       " 'static/photos\\\\34.jpg': ['zebra'],\n",
       " 'static/photos\\\\35.jpg': ['giraffe'],\n",
       " 'static/photos\\\\36.jpg': ['snowboard', 'person'],\n",
       " 'static/photos\\\\37.jpg': ['skis', 'person'],\n",
       " 'static/photos\\\\38.jpg': ['skis', 'person'],\n",
       " 'static/photos\\\\39.jpg': ['snowboard', 'person'],\n",
       " 'static/photos\\\\40.jpg': ['kite', 'person'],\n",
       " 'static/photos\\\\41.jpg': ['kite', 'person'],\n",
       " 'static/photos\\\\42.jpg': ['kite', 'person'],\n",
       " 'static/photos\\\\43.jpg': ['kite', 'person'],\n",
       " 'static/photos\\\\44.jpg': ['surfboard', 'person'],\n",
       " 'static/photos\\\\45.jpg': ['surfboard', 'person'],\n",
       " 'static/photos\\\\46.jpg': ['surfboard', 'person'],\n",
       " 'static/photos\\\\47.jpg': ['surfboard', 'person'],\n",
       " 'static/photos\\\\48.jpg': ['cup', 'knife', 'wineglass', 'fork'],\n",
       " 'static/photos\\\\49.jpg': ['wineglass', 'person'],\n",
       " 'static/photos\\\\50.jpg': ['orange',\n",
       "  'wineglass',\n",
       "  'cup',\n",
       "  'diningtable',\n",
       "  'bottle',\n",
       "  'person'],\n",
       " 'static/photos\\\\51.jpg': ['orange',\n",
       "  'apple',\n",
       "  'bowl',\n",
       "  'sandwich',\n",
       "  'wineglass',\n",
       "  'cup',\n",
       "  'knife',\n",
       "  'pottedplant',\n",
       "  'bottle',\n",
       "  'person'],\n",
       " 'static/photos\\\\52.jpg': ['pizza'],\n",
       " 'static/photos\\\\53.jpg': ['pizza', 'cellphone', 'person'],\n",
       " 'static/photos\\\\54.jpg': ['pizza', 'umbrella', 'person'],\n",
       " 'static/photos\\\\55.jpg': ['cup', 'pizza', 'handbag', 'person'],\n",
       " 'static/photos\\\\56.jpg': ['pizza',\n",
       "  'laptop',\n",
       "  'diningtable',\n",
       "  'bottle',\n",
       "  'person'],\n",
       " 'static/photos\\\\57.jpg': ['cake', 'knife', 'vase', 'person'],\n",
       " 'static/photos\\\\58.jpg': ['hotdog'],\n",
       " 'static/photos\\\\59.jpg': ['cake', 'diningtable', 'person'],\n",
       " 'static/photos\\\\60.jpg': ['dog', 'diningtable', 'sportsball'],\n",
       " 'static/photos\\\\61.jpg': ['cake', 'wineglass', 'person'],\n",
       " 'static/photos\\\\62.jpg': ['cake', 'laptop', 'diningtable', 'person'],\n",
       " 'static/photos\\\\63.jpg': ['bowl',\n",
       "  'laptop',\n",
       "  'cup',\n",
       "  'diningtable',\n",
       "  'chair',\n",
       "  'bottle',\n",
       "  'person'],\n",
       " 'static/photos\\\\64.jpg': ['cup', 'laptop', 'person'],\n",
       " 'static/photos\\\\65.jpg': ['book',\n",
       "  'cake',\n",
       "  'laptop',\n",
       "  'cup',\n",
       "  'pottedplant',\n",
       "  'chair',\n",
       "  'bottle',\n",
       "  'tv',\n",
       "  'person'],\n",
       " 'static/photos\\\\66.jpg': ['person', 'bed', 'laptop', 'pottedplant'],\n",
       " 'static/photos\\\\67.jpg': ['chair', 'laptop', 'diningtable', 'person']}"
      ]
     },
     "execution_count": 7,
     "metadata": {},
     "output_type": "execute_result"
    }
   ],
   "source": [
    "from glob import glob\n",
    "\n",
    "img_list = glob('static/photos/*.jpg')\n",
    "\n",
    "db = {}\n",
    "\n",
    "for img_path in img_list:\n",
    "    results = model(img_path)\n",
    "    \n",
    "    tags = set()\n",
    "\n",
    "    for pred in results.pred[0]:\n",
    "        tag = results.names[int(pred[-1])]\n",
    "        tag = tag.replace(' ', '')\n",
    "        tags.add(tag)\n",
    "        \n",
    "    db[img_path] = list(tags)\n",
    "\n",
    "db"
   ]
  },
  {
   "cell_type": "markdown",
   "metadata": {},
   "source": [
    "## Create the Album"
   ]
  },
  {
   "cell_type": "code",
   "execution_count": null,
   "metadata": {},
   "outputs": [
    {
     "name": "stdout",
     "output_type": "stream",
     "text": [
      " * Serving Flask app \"__main__\" (lazy loading)\n",
      " * Environment: production\n",
      "   WARNING: This is a development server. Do not use it in a production deployment.\n",
      "   Use a production WSGI server instead.\n",
      " * Debug mode: off\n"
     ]
    },
    {
     "name": "stderr",
     "output_type": "stream",
     "text": [
      " * Running on http://127.0.0.1:5000/ (Press CTRL+C to quit)\n",
      "127.0.0.1 - - [14/Jul/2021 21:09:05] \"\u001b[37mGET / HTTP/1.1\u001b[0m\" 200 -\n",
      "127.0.0.1 - - [14/Jul/2021 21:09:06] \"\u001b[37mGET /static/photos/01.jpg HTTP/1.1\u001b[0m\" 200 -\n",
      "127.0.0.1 - - [14/Jul/2021 21:09:06] \"\u001b[37mGET /static/photos/02.jpg HTTP/1.1\u001b[0m\" 200 -\n",
      "127.0.0.1 - - [14/Jul/2021 21:09:06] \"\u001b[37mGET /static/photos/03.jpg HTTP/1.1\u001b[0m\" 200 -\n",
      "127.0.0.1 - - [14/Jul/2021 21:09:06] \"\u001b[37mGET /static/photos/04.jpg HTTP/1.1\u001b[0m\" 200 -\n",
      "127.0.0.1 - - [14/Jul/2021 21:09:06] \"\u001b[37mGET /static/photos/05.jpg HTTP/1.1\u001b[0m\" 200 -\n",
      "127.0.0.1 - - [14/Jul/2021 21:09:06] \"\u001b[37mGET /static/photos/06.jpg HTTP/1.1\u001b[0m\" 200 -\n",
      "127.0.0.1 - - [14/Jul/2021 21:09:06] \"\u001b[37mGET /static/photos/07.jpg HTTP/1.1\u001b[0m\" 200 -\n",
      "127.0.0.1 - - [14/Jul/2021 21:09:06] \"\u001b[37mGET /static/photos/08.jpg HTTP/1.1\u001b[0m\" 200 -\n",
      "127.0.0.1 - - [14/Jul/2021 21:09:06] \"\u001b[37mGET /static/photos/09.jpg HTTP/1.1\u001b[0m\" 200 -\n",
      "127.0.0.1 - - [14/Jul/2021 21:09:06] \"\u001b[37mGET /static/photos/10.jpg HTTP/1.1\u001b[0m\" 200 -\n",
      "127.0.0.1 - - [14/Jul/2021 21:09:06] \"\u001b[37mGET /static/photos/11.jpg HTTP/1.1\u001b[0m\" 200 -\n",
      "127.0.0.1 - - [14/Jul/2021 21:09:06] \"\u001b[37mGET /static/photos/12.jpg HTTP/1.1\u001b[0m\" 200 -\n",
      "127.0.0.1 - - [14/Jul/2021 21:09:06] \"\u001b[37mGET /static/photos/13.jpg HTTP/1.1\u001b[0m\" 200 -\n",
      "127.0.0.1 - - [14/Jul/2021 21:09:06] \"\u001b[37mGET /static/photos/14.jpg HTTP/1.1\u001b[0m\" 200 -\n",
      "127.0.0.1 - - [14/Jul/2021 21:09:06] \"\u001b[37mGET /static/photos/15.jpg HTTP/1.1\u001b[0m\" 200 -\n",
      "127.0.0.1 - - [14/Jul/2021 21:09:06] \"\u001b[37mGET /static/photos/16.jpg HTTP/1.1\u001b[0m\" 200 -\n",
      "127.0.0.1 - - [14/Jul/2021 21:09:06] \"\u001b[37mGET /static/photos/17.jpg HTTP/1.1\u001b[0m\" 200 -\n",
      "127.0.0.1 - - [14/Jul/2021 21:09:06] \"\u001b[37mGET /static/photos/18.jpg HTTP/1.1\u001b[0m\" 200 -\n",
      "127.0.0.1 - - [14/Jul/2021 21:09:06] \"\u001b[37mGET /static/photos/19.jpg HTTP/1.1\u001b[0m\" 200 -\n",
      "127.0.0.1 - - [14/Jul/2021 21:09:06] \"\u001b[37mGET /static/photos/20.jpg HTTP/1.1\u001b[0m\" 200 -\n",
      "127.0.0.1 - - [14/Jul/2021 21:09:06] \"\u001b[37mGET /static/photos/21.jpg HTTP/1.1\u001b[0m\" 200 -\n",
      "127.0.0.1 - - [14/Jul/2021 21:09:06] \"\u001b[37mGET /static/photos/22.jpg HTTP/1.1\u001b[0m\" 200 -\n",
      "127.0.0.1 - - [14/Jul/2021 21:09:06] \"\u001b[37mGET /static/photos/23.jpg HTTP/1.1\u001b[0m\" 200 -\n",
      "127.0.0.1 - - [14/Jul/2021 21:09:06] \"\u001b[37mGET /static/photos/24.jpg HTTP/1.1\u001b[0m\" 200 -\n",
      "127.0.0.1 - - [14/Jul/2021 21:09:06] \"\u001b[37mGET /static/photos/25.jpg HTTP/1.1\u001b[0m\" 200 -\n",
      "127.0.0.1 - - [14/Jul/2021 21:09:06] \"\u001b[37mGET /static/photos/26.jpg HTTP/1.1\u001b[0m\" 200 -\n",
      "127.0.0.1 - - [14/Jul/2021 21:09:06] \"\u001b[37mGET /static/photos/27.jpg HTTP/1.1\u001b[0m\" 200 -\n",
      "127.0.0.1 - - [14/Jul/2021 21:09:06] \"\u001b[37mGET /static/photos/28.jpg HTTP/1.1\u001b[0m\" 200 -\n",
      "127.0.0.1 - - [14/Jul/2021 21:09:06] \"\u001b[37mGET /static/photos/29.jpg HTTP/1.1\u001b[0m\" 200 -\n",
      "127.0.0.1 - - [14/Jul/2021 21:09:06] \"\u001b[37mGET /static/photos/30.jpg HTTP/1.1\u001b[0m\" 200 -\n",
      "127.0.0.1 - - [14/Jul/2021 21:09:06] \"\u001b[37mGET /static/photos/31.jpg HTTP/1.1\u001b[0m\" 200 -\n",
      "127.0.0.1 - - [14/Jul/2021 21:09:06] \"\u001b[37mGET /static/photos/32.jpg HTTP/1.1\u001b[0m\" 200 -\n",
      "127.0.0.1 - - [14/Jul/2021 21:09:06] \"\u001b[37mGET /static/photos/33.jpg HTTP/1.1\u001b[0m\" 200 -\n",
      "127.0.0.1 - - [14/Jul/2021 21:09:06] \"\u001b[37mGET /static/photos/34.jpg HTTP/1.1\u001b[0m\" 200 -\n",
      "127.0.0.1 - - [14/Jul/2021 21:09:06] \"\u001b[37mGET /static/photos/35.jpg HTTP/1.1\u001b[0m\" 200 -\n",
      "127.0.0.1 - - [14/Jul/2021 21:09:06] \"\u001b[37mGET /static/photos/36.jpg HTTP/1.1\u001b[0m\" 200 -\n",
      "127.0.0.1 - - [14/Jul/2021 21:09:06] \"\u001b[37mGET /static/photos/37.jpg HTTP/1.1\u001b[0m\" 200 -\n",
      "127.0.0.1 - - [14/Jul/2021 21:09:06] \"\u001b[37mGET /static/photos/38.jpg HTTP/1.1\u001b[0m\" 200 -\n",
      "127.0.0.1 - - [14/Jul/2021 21:09:06] \"\u001b[37mGET /static/photos/39.jpg HTTP/1.1\u001b[0m\" 200 -\n",
      "127.0.0.1 - - [14/Jul/2021 21:09:06] \"\u001b[37mGET /static/photos/40.jpg HTTP/1.1\u001b[0m\" 200 -\n",
      "127.0.0.1 - - [14/Jul/2021 21:09:06] \"\u001b[37mGET /static/photos/41.jpg HTTP/1.1\u001b[0m\" 200 -\n",
      "127.0.0.1 - - [14/Jul/2021 21:09:06] \"\u001b[37mGET /static/photos/42.jpg HTTP/1.1\u001b[0m\" 200 -\n",
      "127.0.0.1 - - [14/Jul/2021 21:09:06] \"\u001b[37mGET /static/photos/43.jpg HTTP/1.1\u001b[0m\" 200 -\n",
      "127.0.0.1 - - [14/Jul/2021 21:09:06] \"\u001b[37mGET /static/photos/44.jpg HTTP/1.1\u001b[0m\" 200 -\n",
      "127.0.0.1 - - [14/Jul/2021 21:09:06] \"\u001b[37mGET /static/photos/45.jpg HTTP/1.1\u001b[0m\" 200 -\n",
      "127.0.0.1 - - [14/Jul/2021 21:09:06] \"\u001b[37mGET /static/photos/46.jpg HTTP/1.1\u001b[0m\" 200 -\n",
      "127.0.0.1 - - [14/Jul/2021 21:09:06] \"\u001b[37mGET /static/photos/47.jpg HTTP/1.1\u001b[0m\" 200 -\n",
      "127.0.0.1 - - [14/Jul/2021 21:09:06] \"\u001b[37mGET /static/photos/48.jpg HTTP/1.1\u001b[0m\" 200 -\n",
      "127.0.0.1 - - [14/Jul/2021 21:09:06] \"\u001b[37mGET /static/photos/49.jpg HTTP/1.1\u001b[0m\" 200 -\n",
      "127.0.0.1 - - [14/Jul/2021 21:09:06] \"\u001b[37mGET /static/photos/50.jpg HTTP/1.1\u001b[0m\" 200 -\n",
      "127.0.0.1 - - [14/Jul/2021 21:09:06] \"\u001b[37mGET /static/photos/51.jpg HTTP/1.1\u001b[0m\" 200 -\n",
      "127.0.0.1 - - [14/Jul/2021 21:09:06] \"\u001b[37mGET /static/photos/52.jpg HTTP/1.1\u001b[0m\" 200 -\n",
      "127.0.0.1 - - [14/Jul/2021 21:09:06] \"\u001b[37mGET /static/photos/53.jpg HTTP/1.1\u001b[0m\" 200 -\n",
      "127.0.0.1 - - [14/Jul/2021 21:09:06] \"\u001b[37mGET /static/photos/54.jpg HTTP/1.1\u001b[0m\" 200 -\n",
      "127.0.0.1 - - [14/Jul/2021 21:09:06] \"\u001b[37mGET /static/photos/55.jpg HTTP/1.1\u001b[0m\" 200 -\n",
      "127.0.0.1 - - [14/Jul/2021 21:09:06] \"\u001b[37mGET /static/photos/56.jpg HTTP/1.1\u001b[0m\" 200 -\n",
      "127.0.0.1 - - [14/Jul/2021 21:09:06] \"\u001b[37mGET /static/photos/58.jpg HTTP/1.1\u001b[0m\" 200 -\n",
      "127.0.0.1 - - [14/Jul/2021 21:09:06] \"\u001b[37mGET /static/photos/57.jpg HTTP/1.1\u001b[0m\" 200 -\n",
      "127.0.0.1 - - [14/Jul/2021 21:09:06] \"\u001b[37mGET /static/photos/59.jpg HTTP/1.1\u001b[0m\" 200 -\n",
      "127.0.0.1 - - [14/Jul/2021 21:09:06] \"\u001b[37mGET /static/photos/60.jpg HTTP/1.1\u001b[0m\" 200 -\n",
      "127.0.0.1 - - [14/Jul/2021 21:09:06] \"\u001b[37mGET /static/photos/61.jpg HTTP/1.1\u001b[0m\" 200 -\n",
      "127.0.0.1 - - [14/Jul/2021 21:09:07] \"\u001b[37mGET /static/photos/62.jpg HTTP/1.1\u001b[0m\" 200 -\n",
      "127.0.0.1 - - [14/Jul/2021 21:09:07] \"\u001b[37mGET /static/photos/64.jpg HTTP/1.1\u001b[0m\" 200 -\n",
      "127.0.0.1 - - [14/Jul/2021 21:09:07] \"\u001b[37mGET /static/photos/63.jpg HTTP/1.1\u001b[0m\" 200 -\n",
      "127.0.0.1 - - [14/Jul/2021 21:09:07] \"\u001b[37mGET /static/photos/65.jpg HTTP/1.1\u001b[0m\" 200 -\n",
      "127.0.0.1 - - [14/Jul/2021 21:09:07] \"\u001b[37mGET /static/photos/66.jpg HTTP/1.1\u001b[0m\" 200 -\n",
      "127.0.0.1 - - [14/Jul/2021 21:09:07] \"\u001b[37mGET /static/photos/67.jpg HTTP/1.1\u001b[0m\" 200 -\n",
      "127.0.0.1 - - [14/Jul/2021 21:09:07] \"\u001b[33mGET /favicon.ico HTTP/1.1\u001b[0m\" 404 -\n",
      "127.0.0.1 - - [14/Jul/2021 21:09:07] \"\u001b[33mGET /static/photosf.jpg HTTP/1.1\u001b[0m\" 404 -\n",
      "127.0.0.1 - - [14/Jul/2021 21:09:10] \"\u001b[33mGET /static/photosf.jpg HTTP/1.1\u001b[0m\" 404 -\n",
      "127.0.0.1 - - [14/Jul/2021 21:09:10] \"\u001b[33mGET /static/photos%60.jpg HTTP/1.1\u001b[0m\" 404 -\n",
      "127.0.0.1 - - [14/Jul/2021 21:10:32] \"\u001b[37mGET / HTTP/1.1\u001b[0m\" 200 -\n",
      "127.0.0.1 - - [14/Jul/2021 21:10:33] \"\u001b[33mGET /static/photos3.jpg HTTP/1.1\u001b[0m\" 404 -\n"
     ]
    }
   ],
   "source": [
    "from flask import Flask, render_template\n",
    "\n",
    "app = Flask(__name__)\n",
    "\n",
    "@app.route('/')\n",
    "def index():\n",
    "    return render_template('index.html', photos=db)\n",
    "\n",
    "if __name__ == '__main__':\n",
    "    app.run()"
   ]
  },
  {
   "cell_type": "code",
   "execution_count": null,
   "metadata": {},
   "outputs": [],
   "source": []
  }
 ],
 "metadata": {
  "kernelspec": {
   "display_name": "Python 3",
   "language": "python",
   "name": "python3"
  },
  "language_info": {
   "codemirror_mode": {
    "name": "ipython",
    "version": 3
   },
   "file_extension": ".py",
   "mimetype": "text/x-python",
   "name": "python",
   "nbconvert_exporter": "python",
   "pygments_lexer": "ipython3",
   "version": "3.8.5"
  }
 },
 "nbformat": 4,
 "nbformat_minor": 4
}
